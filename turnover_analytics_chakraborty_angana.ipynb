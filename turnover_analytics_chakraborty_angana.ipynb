{
 "cells": [
  {
   "cell_type": "code",
   "execution_count": 12,
   "id": "1024f0b3",
   "metadata": {},
   "outputs": [],
   "source": [
    "#import necessary libraries\n",
    "import numpy as np\n",
    "import pandas as pd\n",
    "import matplotlib.pyplot as plt\n",
    "import seaborn as sns\n",
    "import warnings\n",
    "warnings.filterwarnings('ignore')\n",
    "from sklearn.preprocessing import StandardScaler\n",
    "from sklearn.cluster import KMeans\n",
    "from sklearn.model_selection import train_test_split\n",
    "from imblearn.over_sampling import SMOTE\n",
    "from sklearn.model_selection import cross_val_predict, StratifiedKFold, cross_val_score\n",
    "from sklearn.metrics import classification_report, roc_curve, auc, confusion_matrix\n",
    "from sklearn.linear_model import LogisticRegression\n",
    "from sklearn.ensemble import RandomForestClassifier, GradientBoostingClassifier"
   ]
  },
  {
   "cell_type": "markdown",
   "id": "4ebecc5b",
   "metadata": {},
   "source": [
    "importing dataset"
   ]
  },
  {
   "cell_type": "code",
   "execution_count": 13,
   "id": "ca966f56",
   "metadata": {},
   "outputs": [
    {
     "data": {
      "text/html": [
       "<div>\n",
       "<style scoped>\n",
       "    .dataframe tbody tr th:only-of-type {\n",
       "        vertical-align: middle;\n",
       "    }\n",
       "\n",
       "    .dataframe tbody tr th {\n",
       "        vertical-align: top;\n",
       "    }\n",
       "\n",
       "    .dataframe thead th {\n",
       "        text-align: right;\n",
       "    }\n",
       "</style>\n",
       "<table border=\"1\" class=\"dataframe\">\n",
       "  <thead>\n",
       "    <tr style=\"text-align: right;\">\n",
       "      <th></th>\n",
       "      <th>satisfaction_level</th>\n",
       "      <th>last_evaluation</th>\n",
       "      <th>number_project</th>\n",
       "      <th>average_montly_hours</th>\n",
       "      <th>time_spend_company</th>\n",
       "      <th>Work_accident</th>\n",
       "      <th>left</th>\n",
       "      <th>promotion_last_5years</th>\n",
       "      <th>sales</th>\n",
       "      <th>salary</th>\n",
       "    </tr>\n",
       "  </thead>\n",
       "  <tbody>\n",
       "    <tr>\n",
       "      <th>0</th>\n",
       "      <td>0.38</td>\n",
       "      <td>0.53</td>\n",
       "      <td>2</td>\n",
       "      <td>157</td>\n",
       "      <td>3</td>\n",
       "      <td>0</td>\n",
       "      <td>1</td>\n",
       "      <td>0</td>\n",
       "      <td>sales</td>\n",
       "      <td>low</td>\n",
       "    </tr>\n",
       "    <tr>\n",
       "      <th>1</th>\n",
       "      <td>0.80</td>\n",
       "      <td>0.86</td>\n",
       "      <td>5</td>\n",
       "      <td>262</td>\n",
       "      <td>6</td>\n",
       "      <td>0</td>\n",
       "      <td>1</td>\n",
       "      <td>0</td>\n",
       "      <td>sales</td>\n",
       "      <td>medium</td>\n",
       "    </tr>\n",
       "    <tr>\n",
       "      <th>2</th>\n",
       "      <td>0.11</td>\n",
       "      <td>0.88</td>\n",
       "      <td>7</td>\n",
       "      <td>272</td>\n",
       "      <td>4</td>\n",
       "      <td>0</td>\n",
       "      <td>1</td>\n",
       "      <td>0</td>\n",
       "      <td>sales</td>\n",
       "      <td>medium</td>\n",
       "    </tr>\n",
       "    <tr>\n",
       "      <th>3</th>\n",
       "      <td>0.72</td>\n",
       "      <td>0.87</td>\n",
       "      <td>5</td>\n",
       "      <td>223</td>\n",
       "      <td>5</td>\n",
       "      <td>0</td>\n",
       "      <td>1</td>\n",
       "      <td>0</td>\n",
       "      <td>sales</td>\n",
       "      <td>low</td>\n",
       "    </tr>\n",
       "    <tr>\n",
       "      <th>4</th>\n",
       "      <td>0.37</td>\n",
       "      <td>0.52</td>\n",
       "      <td>2</td>\n",
       "      <td>159</td>\n",
       "      <td>3</td>\n",
       "      <td>0</td>\n",
       "      <td>1</td>\n",
       "      <td>0</td>\n",
       "      <td>sales</td>\n",
       "      <td>low</td>\n",
       "    </tr>\n",
       "    <tr>\n",
       "      <th>5</th>\n",
       "      <td>0.41</td>\n",
       "      <td>0.50</td>\n",
       "      <td>2</td>\n",
       "      <td>153</td>\n",
       "      <td>3</td>\n",
       "      <td>0</td>\n",
       "      <td>1</td>\n",
       "      <td>0</td>\n",
       "      <td>sales</td>\n",
       "      <td>low</td>\n",
       "    </tr>\n",
       "    <tr>\n",
       "      <th>6</th>\n",
       "      <td>0.10</td>\n",
       "      <td>0.77</td>\n",
       "      <td>6</td>\n",
       "      <td>247</td>\n",
       "      <td>4</td>\n",
       "      <td>0</td>\n",
       "      <td>1</td>\n",
       "      <td>0</td>\n",
       "      <td>sales</td>\n",
       "      <td>low</td>\n",
       "    </tr>\n",
       "    <tr>\n",
       "      <th>7</th>\n",
       "      <td>0.92</td>\n",
       "      <td>0.85</td>\n",
       "      <td>5</td>\n",
       "      <td>259</td>\n",
       "      <td>5</td>\n",
       "      <td>0</td>\n",
       "      <td>1</td>\n",
       "      <td>0</td>\n",
       "      <td>sales</td>\n",
       "      <td>low</td>\n",
       "    </tr>\n",
       "    <tr>\n",
       "      <th>8</th>\n",
       "      <td>0.89</td>\n",
       "      <td>1.00</td>\n",
       "      <td>5</td>\n",
       "      <td>224</td>\n",
       "      <td>5</td>\n",
       "      <td>0</td>\n",
       "      <td>1</td>\n",
       "      <td>0</td>\n",
       "      <td>sales</td>\n",
       "      <td>low</td>\n",
       "    </tr>\n",
       "    <tr>\n",
       "      <th>9</th>\n",
       "      <td>0.42</td>\n",
       "      <td>0.53</td>\n",
       "      <td>2</td>\n",
       "      <td>142</td>\n",
       "      <td>3</td>\n",
       "      <td>0</td>\n",
       "      <td>1</td>\n",
       "      <td>0</td>\n",
       "      <td>sales</td>\n",
       "      <td>low</td>\n",
       "    </tr>\n",
       "  </tbody>\n",
       "</table>\n",
       "</div>"
      ],
      "text/plain": [
       "   satisfaction_level  last_evaluation  number_project  average_montly_hours  \\\n",
       "0                0.38             0.53               2                   157   \n",
       "1                0.80             0.86               5                   262   \n",
       "2                0.11             0.88               7                   272   \n",
       "3                0.72             0.87               5                   223   \n",
       "4                0.37             0.52               2                   159   \n",
       "5                0.41             0.50               2                   153   \n",
       "6                0.10             0.77               6                   247   \n",
       "7                0.92             0.85               5                   259   \n",
       "8                0.89             1.00               5                   224   \n",
       "9                0.42             0.53               2                   142   \n",
       "\n",
       "   time_spend_company  Work_accident  left  promotion_last_5years  sales  \\\n",
       "0                   3              0     1                      0  sales   \n",
       "1                   6              0     1                      0  sales   \n",
       "2                   4              0     1                      0  sales   \n",
       "3                   5              0     1                      0  sales   \n",
       "4                   3              0     1                      0  sales   \n",
       "5                   3              0     1                      0  sales   \n",
       "6                   4              0     1                      0  sales   \n",
       "7                   5              0     1                      0  sales   \n",
       "8                   5              0     1                      0  sales   \n",
       "9                   3              0     1                      0  sales   \n",
       "\n",
       "   salary  \n",
       "0     low  \n",
       "1  medium  \n",
       "2  medium  \n",
       "3     low  \n",
       "4     low  \n",
       "5     low  \n",
       "6     low  \n",
       "7     low  \n",
       "8     low  \n",
       "9     low  "
      ]
     },
     "execution_count": 13,
     "metadata": {},
     "output_type": "execute_result"
    }
   ],
   "source": [
    "# Load dataset\n",
    "turnover = pd.read_csv('HR_comma_sep.csv')\n",
    "turnover.head(10)"
   ]
  },
  {
   "cell_type": "code",
   "execution_count": 3,
   "id": "0c3a99dd",
   "metadata": {},
   "outputs": [
    {
     "name": "stdout",
     "output_type": "stream",
     "text": [
      "['sales' 'accounting' 'hr' 'technical' 'support' 'management' 'IT'\n",
      " 'product_mng' 'marketing' 'RandD']\n"
     ]
    }
   ],
   "source": [
    "unique_departments = turnover['sales'].unique()\n",
    "\n",
    "print(unique_departments)"
   ]
  },
  {
   "cell_type": "markdown",
   "id": "c1aaa8d3",
   "metadata": {},
   "source": [
    "The column 'sales' refers to the department in which the employee works. For ease of understanding let's rename it to 'Department'"
   ]
  },
  {
   "cell_type": "code",
   "execution_count": 4,
   "id": "cd4e54b7",
   "metadata": {},
   "outputs": [],
   "source": [
    "# Replace column name \"Sales\" to \"Department\" as it makes more sense\n",
    "turnover = turnover.rename(columns={'sales': 'Department'})"
   ]
  },
  {
   "cell_type": "code",
   "execution_count": 5,
   "id": "7e32b2fb",
   "metadata": {},
   "outputs": [
    {
     "name": "stdout",
     "output_type": "stream",
     "text": [
      "<class 'pandas.core.frame.DataFrame'>\n",
      "RangeIndex: 14999 entries, 0 to 14998\n",
      "Data columns (total 10 columns):\n",
      " #   Column                 Non-Null Count  Dtype  \n",
      "---  ------                 --------------  -----  \n",
      " 0   satisfaction_level     14999 non-null  float64\n",
      " 1   last_evaluation        14999 non-null  float64\n",
      " 2   number_project         14999 non-null  int64  \n",
      " 3   average_montly_hours   14999 non-null  int64  \n",
      " 4   time_spend_company     14999 non-null  int64  \n",
      " 5   Work_accident          14999 non-null  int64  \n",
      " 6   left                   14999 non-null  int64  \n",
      " 7   promotion_last_5years  14999 non-null  int64  \n",
      " 8   Department             14999 non-null  object \n",
      " 9   salary                 14999 non-null  object \n",
      "dtypes: float64(2), int64(6), object(2)\n",
      "memory usage: 1.1+ MB\n",
      "None\n"
     ]
    }
   ],
   "source": [
    "# Examine basic information about the data\n",
    "print(turnover.info())"
   ]
  },
  {
   "cell_type": "code",
   "execution_count": 6,
   "id": "74dc732d",
   "metadata": {},
   "outputs": [
    {
     "data": {
      "text/plain": [
       "satisfaction_level       0\n",
       "last_evaluation          0\n",
       "number_project           0\n",
       "average_montly_hours     0\n",
       "time_spend_company       0\n",
       "Work_accident            0\n",
       "left                     0\n",
       "promotion_last_5years    0\n",
       "Department               0\n",
       "salary                   0\n",
       "dtype: int64"
      ]
     },
     "execution_count": 6,
     "metadata": {},
     "output_type": "execute_result"
    }
   ],
   "source": [
    "# Check for missing values\n",
    "missing_values = turnover.isnull().sum()\n",
    "missing_values"
   ]
  },
  {
   "cell_type": "markdown",
   "id": "f668e21c",
   "metadata": {},
   "source": [
    "We see that there is no missing value in any column of the dataset."
   ]
  },
  {
   "cell_type": "code",
   "execution_count": 44,
   "id": "109df85e",
   "metadata": {},
   "outputs": [
    {
     "data": {
      "text/html": [
       "<div>\n",
       "<style scoped>\n",
       "    .dataframe tbody tr th:only-of-type {\n",
       "        vertical-align: middle;\n",
       "    }\n",
       "\n",
       "    .dataframe tbody tr th {\n",
       "        vertical-align: top;\n",
       "    }\n",
       "\n",
       "    .dataframe thead th {\n",
       "        text-align: right;\n",
       "    }\n",
       "</style>\n",
       "<table border=\"1\" class=\"dataframe\">\n",
       "  <thead>\n",
       "    <tr style=\"text-align: right;\">\n",
       "      <th></th>\n",
       "      <th>satisfaction_level</th>\n",
       "      <th>last_evaluation</th>\n",
       "      <th>number_project</th>\n",
       "      <th>average_montly_hours</th>\n",
       "      <th>time_spend_company</th>\n",
       "      <th>Work_accident</th>\n",
       "      <th>left</th>\n",
       "      <th>promotion_last_5years</th>\n",
       "    </tr>\n",
       "  </thead>\n",
       "  <tbody>\n",
       "    <tr>\n",
       "      <th>count</th>\n",
       "      <td>14999.000000</td>\n",
       "      <td>14999.000000</td>\n",
       "      <td>14999.000000</td>\n",
       "      <td>14999.000000</td>\n",
       "      <td>14999.000000</td>\n",
       "      <td>14999.000000</td>\n",
       "      <td>14999.000000</td>\n",
       "      <td>14999.000000</td>\n",
       "    </tr>\n",
       "    <tr>\n",
       "      <th>mean</th>\n",
       "      <td>0.612834</td>\n",
       "      <td>0.716102</td>\n",
       "      <td>3.803054</td>\n",
       "      <td>201.050337</td>\n",
       "      <td>3.498233</td>\n",
       "      <td>0.144610</td>\n",
       "      <td>0.238083</td>\n",
       "      <td>0.021268</td>\n",
       "    </tr>\n",
       "    <tr>\n",
       "      <th>std</th>\n",
       "      <td>0.248631</td>\n",
       "      <td>0.171169</td>\n",
       "      <td>1.232592</td>\n",
       "      <td>49.943099</td>\n",
       "      <td>1.460136</td>\n",
       "      <td>0.351719</td>\n",
       "      <td>0.425924</td>\n",
       "      <td>0.144281</td>\n",
       "    </tr>\n",
       "    <tr>\n",
       "      <th>min</th>\n",
       "      <td>0.090000</td>\n",
       "      <td>0.360000</td>\n",
       "      <td>2.000000</td>\n",
       "      <td>96.000000</td>\n",
       "      <td>2.000000</td>\n",
       "      <td>0.000000</td>\n",
       "      <td>0.000000</td>\n",
       "      <td>0.000000</td>\n",
       "    </tr>\n",
       "    <tr>\n",
       "      <th>25%</th>\n",
       "      <td>0.440000</td>\n",
       "      <td>0.560000</td>\n",
       "      <td>3.000000</td>\n",
       "      <td>156.000000</td>\n",
       "      <td>3.000000</td>\n",
       "      <td>0.000000</td>\n",
       "      <td>0.000000</td>\n",
       "      <td>0.000000</td>\n",
       "    </tr>\n",
       "    <tr>\n",
       "      <th>50%</th>\n",
       "      <td>0.640000</td>\n",
       "      <td>0.720000</td>\n",
       "      <td>4.000000</td>\n",
       "      <td>200.000000</td>\n",
       "      <td>3.000000</td>\n",
       "      <td>0.000000</td>\n",
       "      <td>0.000000</td>\n",
       "      <td>0.000000</td>\n",
       "    </tr>\n",
       "    <tr>\n",
       "      <th>75%</th>\n",
       "      <td>0.820000</td>\n",
       "      <td>0.870000</td>\n",
       "      <td>5.000000</td>\n",
       "      <td>245.000000</td>\n",
       "      <td>4.000000</td>\n",
       "      <td>0.000000</td>\n",
       "      <td>0.000000</td>\n",
       "      <td>0.000000</td>\n",
       "    </tr>\n",
       "    <tr>\n",
       "      <th>max</th>\n",
       "      <td>1.000000</td>\n",
       "      <td>1.000000</td>\n",
       "      <td>7.000000</td>\n",
       "      <td>310.000000</td>\n",
       "      <td>10.000000</td>\n",
       "      <td>1.000000</td>\n",
       "      <td>1.000000</td>\n",
       "      <td>1.000000</td>\n",
       "    </tr>\n",
       "  </tbody>\n",
       "</table>\n",
       "</div>"
      ],
      "text/plain": [
       "       satisfaction_level  last_evaluation  number_project  \\\n",
       "count        14999.000000     14999.000000    14999.000000   \n",
       "mean             0.612834         0.716102        3.803054   \n",
       "std              0.248631         0.171169        1.232592   \n",
       "min              0.090000         0.360000        2.000000   \n",
       "25%              0.440000         0.560000        3.000000   \n",
       "50%              0.640000         0.720000        4.000000   \n",
       "75%              0.820000         0.870000        5.000000   \n",
       "max              1.000000         1.000000        7.000000   \n",
       "\n",
       "       average_montly_hours  time_spend_company  Work_accident          left  \\\n",
       "count          14999.000000        14999.000000   14999.000000  14999.000000   \n",
       "mean             201.050337            3.498233       0.144610      0.238083   \n",
       "std               49.943099            1.460136       0.351719      0.425924   \n",
       "min               96.000000            2.000000       0.000000      0.000000   \n",
       "25%              156.000000            3.000000       0.000000      0.000000   \n",
       "50%              200.000000            3.000000       0.000000      0.000000   \n",
       "75%              245.000000            4.000000       0.000000      0.000000   \n",
       "max              310.000000           10.000000       1.000000      1.000000   \n",
       "\n",
       "       promotion_last_5years  \n",
       "count           14999.000000  \n",
       "mean                0.021268  \n",
       "std                 0.144281  \n",
       "min                 0.000000  \n",
       "25%                 0.000000  \n",
       "50%                 0.000000  \n",
       "75%                 0.000000  \n",
       "max                 1.000000  "
      ]
     },
     "execution_count": 44,
     "metadata": {},
     "output_type": "execute_result"
    }
   ],
   "source": [
    "# Check the basic statistics of the dataframe\n",
    "basic_stats = turnover.describe()\n",
    "basic_stats"
   ]
  },
  {
   "cell_type": "code",
   "execution_count": 45,
   "id": "95ae9f0c",
   "metadata": {},
   "outputs": [
    {
     "name": "stdout",
     "output_type": "stream",
     "text": [
      "satisfaction_level        92\n",
      "last_evaluation           65\n",
      "number_project             6\n",
      "average_montly_hours     215\n",
      "time_spend_company         8\n",
      "Work_accident              2\n",
      "left                       2\n",
      "promotion_last_5years      2\n",
      "Department                10\n",
      "salary                     3\n",
      "dtype: int64\n"
     ]
    }
   ],
   "source": [
    "# Explore the unique values in each column\n",
    "unique_counts = turnover.nunique()\n",
    "print(unique_counts)"
   ]
  },
  {
   "cell_type": "markdown",
   "id": "46dd23a1",
   "metadata": {},
   "source": [
    "## 2. Understand Factors Contributing to Employee Turnover\n",
    "\n",
    "To explore employee turnover (left column), we will use exploratory data analysis (EDA) techniques.\n",
    "\n",
    "### 2.1 Heatmap of Correlation Matrix\n",
    "A heatmap is used to visualize correlations between numerical features. The correlation matrix for numerical features (satisfaction_level, last_evaluation, number_project, average_montly_hours, time_spend_company, Work_accident, and promotion_last_5years) reveals:\n",
    "\n",
    "- Strong negative correlation between satisfaction_level and turnover (left).\n",
    "\n",
    "- Positive correlation between turnover and time_spend_company.\n",
    "\n",
    "- Negative correlation between turnover and Work_accident"
   ]
  },
  {
   "cell_type": "code",
   "execution_count": 46,
   "id": "b48df587",
   "metadata": {},
   "outputs": [
    {
     "data": {
      "image/png": "[encoded data removed]",
      "text/plain": [
       "<Figure size 720x576 with 2 Axes>"
      ]
     },
     "metadata": {
      "needs_background": "light"
     },
     "output_type": "display_data"
    }
   ],
   "source": [
    "# Compute the correlation matrix\n",
    "correlation_matrix = turnover.corr()\n",
    "\n",
    "# Plot a heatmap of the correlation matrix\n",
    "plt.figure(figsize=(10, 8))\n",
    "sns.heatmap(correlation_matrix, annot=True, cmap='coolwarm', fmt=\".2f\", linewidths=0.5)\n",
    "plt.title('Correlation Matrix')\n",
    "plt.xticks(rotation=45)\n",
    "plt.show()"
   ]
  },
  {
   "cell_type": "markdown",
   "id": "639a540e",
   "metadata": {},
   "source": [
    "## 2.2 Distribution Plots\n",
    "\n",
    "Employee Satisfaction (satisfaction_level)\n",
    "The distribution plot shows that employees who left tend to have lower satisfaction levels.\n",
    "\n",
    "Employee Evaluation (last_evaluation)\n",
    "Employees with very high or very low evaluations are more likely to leave.\n",
    "\n",
    "Average Monthly Hours (average_montly_hours)\n",
    "Turnover is higher among employees with either very low or very high monthly hours."
   ]
  },
  {
   "cell_type": "code",
   "execution_count": 47,
   "id": "c8f7dee2",
   "metadata": {},
   "outputs": [
    {
     "data": {
      "image/png": "[encoded data removed]",
      "text/plain": [
       "<Figure size 432x288 with 1 Axes>"
      ]
     },
     "metadata": {
      "needs_background": "light"
     },
     "output_type": "display_data"
    },
    {
     "data": {
      "image/png": "[encoded data removed]",
      "text/plain": [
       "<Figure size 432x288 with 1 Axes>"
      ]
     },
     "metadata": {
      "needs_background": "light"
     },
     "output_type": "display_data"
    },
    {
     "data": {
      "image/png": "[encoded data removed]",
      "text/plain": [
       "<Figure size 432x288 with 1 Axes>"
      ]
     },
     "metadata": {
      "needs_background": "light"
     },
     "output_type": "display_data"
    }
   ],
   "source": [
    "# Distribution plots\n",
    "for column in ['satisfaction_level', 'last_evaluation', 'average_montly_hours']:\n",
    "    sns.histplot(data=turnover, x=column, hue='left', kde=True, bins=30)\n",
    "    plt.title(f'Distribution of {column}')\n",
    "    plt.show()\n"
   ]
  },
  {
   "cell_type": "markdown",
   "id": "9ec0615c",
   "metadata": {},
   "source": [
    "### 2.3 Bar Plot: Employee Project Count vs Turnover\n",
    "The bar plot shows the distribution of project counts (number_project) for employees who stayed and left:\n",
    "\n",
    "Employees with very few or too many projects are more likely to leave.\n",
    "\n",
    "Moderate project counts (e.g., 3–5) are associated with lower turnover.\n",
    "\n",
    "Low engagement (fewer projects) or burnout (excessive projects) may contribute to higher turnover rates."
   ]
  },
  {
   "cell_type": "code",
   "execution_count": 48,
   "id": "2a59c589",
   "metadata": {},
   "outputs": [
    {
     "data": {
      "image/png": "[encoded data removed]",
      "text/plain": [
       "<Figure size 432x288 with 1 Axes>"
      ]
     },
     "metadata": {
      "needs_background": "light"
     },
     "output_type": "display_data"
    }
   ],
   "source": [
    "# Bar plot for project count\n",
    "sns.countplot(data=turnover, x='number_project', hue='left')\n",
    "plt.title('Project Count vs Turnover')\n",
    "plt.xlabel('Number of Projects')\n",
    "plt.ylabel('Count')\n",
    "plt.show()\n"
   ]
  },
  {
   "cell_type": "markdown",
   "id": "c8427b01",
   "metadata": {},
   "source": [
    "## Perform Clustering\n",
    "\n",
    "### 3.1 Select Relevant Columns\n",
    "We will use the following columns from the dataset:\n",
    "\n",
    "- satisfaction_level\n",
    "\n",
    "- last_evaluation\n",
    "\n",
    "- left (filtering only employees who left)"
   ]
  },
  {
   "cell_type": "code",
   "execution_count": 49,
   "id": "09f54a7b",
   "metadata": {},
   "outputs": [],
   "source": [
    "# Filter employees who left\n",
    "left_employees = turnover[turnover['left'] == 1][['satisfaction_level', 'last_evaluation']]"
   ]
  },
  {
   "cell_type": "markdown",
   "id": "728a73f4",
   "metadata": {},
   "source": [
    "### 3.2 K-Means Clustering\n",
    "We will cluster the employees who left into 3 clusters using the K-Means algorithm. This requires scaling the features for better performance of the clustering algorithm.\n",
    "\n",
    "Steps:\n",
    "- Normalize satisfaction_level and last_evaluation using a scaler.\n",
    "- Apply K-Means clustering with k = 3\n",
    "- Visualize the clusters."
   ]
  },
  {
   "cell_type": "code",
   "execution_count": 52,
   "id": "888f51fc",
   "metadata": {},
   "outputs": [],
   "source": [
    "#Scale the data\n",
    "scaler = StandardScaler()\n",
    "scaled_data = scaler.fit_transform(left_employees)\n",
    "\n",
    "#Apply K-means clustering\n",
    "kmeans = KMeans(n_clusters = 3, random_state=42)\n",
    "clusters = kmeans.fit_predict(scaled_data)\n",
    "\n",
    "# Add the cluster labels to the data\n",
    "left_employees['Clusters'] = clusters"
   ]
  },
  {
   "cell_type": "code",
   "execution_count": 54,
   "id": "db61124c",
   "metadata": {},
   "outputs": [
    {
     "data": {
      "image/png": "[encoded data removed]",
      "text/plain": [
       "<Figure size 720x432 with 1 Axes>"
      ]
     },
     "metadata": {
      "needs_background": "light"
     },
     "output_type": "display_data"
    }
   ],
   "source": [
    "# Visualize clusters\n",
    "plt.figure(figsize=(10, 6))\n",
    "for cluster in range(3):\n",
    "    cluster_data = left_employees[left_employees['Clusters'] == cluster]\n",
    "    plt.scatter(cluster_data['satisfaction_level'], cluster_data['last_evaluation'], label=f'Cluster {cluster}')\n",
    "    \n",
    "plt.xlabel('Satisfaction Level')\n",
    "plt.ylabel('Last Evaluation')\n",
    "plt.title('K-Means Clustering of Employees Who Left')\n",
    "plt.legend()\n",
    "plt.show()"
   ]
  },
  {
   "cell_type": "markdown",
   "id": "e6946f59",
   "metadata": {},
   "source": [
    "### 3.3 Insights from Clusters\n",
    "Based on clustering results, we can interpret the employee groups as follows:\n",
    "\n",
    "Cluster 0: Employees with low satisfaction and moderate evaluations. These employees likely left since they might be dissatisfied with their work, environment, or opportunities.\n",
    "\n",
    "Cluster 1: Employees with high satisfaction and high evaluations. These employees might have left for better opportunities or career growth despite being satisfied with their current roles.\n",
    "\n",
    "Cluster 2: Employees with low satisfaction but high evaluations. This group might represent overworked or burned-out employees who performed well but were unhappy with their workload or management.\n",
    "\n",
    "These insights can help organizations address employee retention by focusing on improving satisfaction and managing workloads effectively.\n"
   ]
  },
  {
   "cell_type": "markdown",
   "id": "27b70c8e",
   "metadata": {},
   "source": [
    "## 4. Handling Class Imbalance with SMOTE\n",
    "\n",
    "### 4.1 Pre-process the Data\n",
    "\n",
    "After visual inspection of the dataframe, we can separate Categorical and Numerical Variables\n",
    "\n",
    "- Categorical columns: Department, salary\n",
    "\n",
    "- Numerical columns: satisfaction_level, last_evaluation, number_project, average_montly_hours, time_spend_company, Work_accident, promotion_last_5years\n",
    "\n",
    "**Apply get_dummies() to Categorical Variables**\n",
    "This will convert the categorical variables into numerical format using one-hot encoding.\n",
    "\n",
    "**Combine Categorical and Numerical Variables**\n",
    "Concatenate the one-hot encoded categorical variables with the numerical variables."
   ]
  },
  {
   "cell_type": "code",
   "execution_count": 18,
   "id": "df9108f1",
   "metadata": {},
   "outputs": [
    {
     "data": {
      "text/plain": [
       "Index(['satisfaction_level', 'last_evaluation', 'number_project',\n",
       "       'average_montly_hours', 'time_spend_company', 'Work_accident', 'left',\n",
       "       'promotion_last_5years', 'Department', 'salary'],\n",
       "      dtype='object')"
      ]
     },
     "execution_count": 18,
     "metadata": {},
     "output_type": "execute_result"
    }
   ],
   "source": [
    "turnover.columns"
   ]
  },
  {
   "cell_type": "code",
   "execution_count": 57,
   "id": "627e6428",
   "metadata": {},
   "outputs": [],
   "source": [
    "# Separate categorical and numeric variables\n",
    "categorical_cols = ['Department', 'salary']\n",
    "\n",
    "numerical_cols = ['satisfaction_level', 'last_evaluation', 'number_project', 'average_montly_hours', 'time_spend_company', 'Work_accident', 'promotion_last_5years']\n",
    "\n",
    "# Convert categorical variables using one-hot encoding\n",
    "categorical_data = pd.get_dummies(turnover[categorical_cols], drop_first=True)\n",
    "\n",
    "# Combine categorical and numerical variables\n",
    "X = pd.concat([turnover[numerical_cols], categorical_data], axis=1)\n",
    "y = turnover['left']\n",
    "\n",
    "# Scale the numerical features\n",
    "scaler = StandardScaler()\n",
    "X[numerical_cols] = scaler.fit_transform(X[numerical_cols])"
   ]
  },
  {
   "cell_type": "markdown",
   "id": "157d8193",
   "metadata": {},
   "source": [
    "### 4.2 Stratified Train-Test Split\n",
    "\n",
    "Perform a stratified train-test split to maintain the same class distribution in both sets.\n",
    "\n",
    "- Split ratio: 80:20\n",
    "\n",
    "- random_state: 123"
   ]
  },
  {
   "cell_type": "code",
   "execution_count": 58,
   "id": "2cc4a571",
   "metadata": {},
   "outputs": [],
   "source": [
    "# Perform stratified train-test split\n",
    "X_train, X_test, y_train, y_test = train_test_split(X, y, test_size=0.2, random_state=123, stratify=y)"
   ]
  },
  {
   "cell_type": "markdown",
   "id": "6e710f8c",
   "metadata": {},
   "source": [
    "### 4.3 Upsample the Training Dataset using SMOTE\n",
    "\n",
    "Apply the SMOTE technique to oversample the minority class (left = 1) in the training dataset."
   ]
  },
  {
   "cell_type": "code",
   "execution_count": 59,
   "id": "595e22a3",
   "metadata": {},
   "outputs": [
    {
     "name": "stdout",
     "output_type": "stream",
     "text": [
      "Class distribution after SMOTE:\n",
      "0    9142\n",
      "1    9142\n",
      "Name: left, dtype: int64\n"
     ]
    }
   ],
   "source": [
    "# Apply SMOTE to upsample the minority class\n",
    "smote = SMOTE(random_state=123)\n",
    "X_train_resampled, y_train_resampled = smote.fit_resample(X_train, y_train)\n",
    "\n",
    "# Print the class distribution after SMOTE\n",
    "print(\"Class distribution after SMOTE:\")\n",
    "print(pd.Series(y_train_resampled).value_counts())"
   ]
  },
  {
   "cell_type": "markdown",
   "id": "5a531eb5",
   "metadata": {},
   "source": [
    "## 5. Performing 5-Fold Cross-Validation and Evaluation\n",
    "\n",
    "We will train and evaluate the following models using 5-fold cross-validation:\n",
    "\n",
    "- Logistic Regression\n",
    "\n",
    "- Random Forest Classifier\n",
    "\n",
    "- Gradient Boosting Classifier\n",
    "\n",
    "We will then generate classification reports for each model."
   ]
  },
  {
   "cell_type": "markdown",
   "id": "3c7be140",
   "metadata": {},
   "source": [
    "### 5.1 Logistic Regression"
   ]
  },
  {
   "cell_type": "code",
   "execution_count": 62,
   "id": "cd7c4651",
   "metadata": {},
   "outputs": [
    {
     "name": "stdout",
     "output_type": "stream",
     "text": [
      "Logistic Regression Cross-Validation Scores: [0.77878042 0.76182663 0.77358491 0.77249111 0.76094092]\n",
      "Logistic Regression Mean CV Accuracy: 0.769524798518952\n",
      "Logistic Regression Classification Report:\n",
      "              precision    recall  f1-score   support\n",
      "\n",
      "           0       0.93      0.75      0.83      2286\n",
      "           1       0.50      0.81      0.62       714\n",
      "\n",
      "    accuracy                           0.76      3000\n",
      "   macro avg       0.71      0.78      0.72      3000\n",
      "weighted avg       0.83      0.76      0.78      3000\n",
      "\n"
     ]
    }
   ],
   "source": [
    "# Logistic Regression\n",
    "logistic_regression = LogisticRegression(random_state=123)\n",
    "\n",
    "# 5-Fold Cross-Validation\n",
    "cv = StratifiedKFold(n_splits=5, shuffle=True, random_state=123)\n",
    "cv_scores = cross_val_score(logistic_regression, X_train_resampled, y_train_resampled, cv=cv, scoring='accuracy')\n",
    "\n",
    "print(\"Logistic Regression Cross-Validation Scores:\", cv_scores)\n",
    "print(\"Logistic Regression Mean CV Accuracy:\", cv_scores.mean())\n",
    "\n",
    "# Train and Evaluate\n",
    "logistic_regression.fit(X_train_resampled, y_train_resampled)\n",
    "y_pred_lr = logistic_regression.predict(X_test)\n",
    "\n",
    "# Classification Report\n",
    "print(\"Logistic Regression Classification Report:\")\n",
    "print(classification_report(y_test, y_pred_lr))\n"
   ]
  },
  {
   "cell_type": "markdown",
   "id": "449b7c35",
   "metadata": {},
   "source": [
    "### 5.2 Random Forest Classifier"
   ]
  },
  {
   "cell_type": "code",
   "execution_count": 65,
   "id": "23275714",
   "metadata": {},
   "outputs": [
    {
     "name": "stdout",
     "output_type": "stream",
     "text": [
      "Random Forest Cross-Validation Scores: [0.98687449 0.98824173 0.98796828 0.98714794 0.9868709 ]\n",
      "Random Forest Mean CV Accuracy: 0.9874206656219391\n",
      "Random Forest Classification Report:\n",
      "              precision    recall  f1-score   support\n",
      "\n",
      "           0       0.99      1.00      0.99      2286\n",
      "           1       0.99      0.98      0.98       714\n",
      "\n",
      "    accuracy                           0.99      3000\n",
      "   macro avg       0.99      0.99      0.99      3000\n",
      "weighted avg       0.99      0.99      0.99      3000\n",
      "\n"
     ]
    }
   ],
   "source": [
    "# Random Forest Classifier\n",
    "random_forest = RandomForestClassifier(random_state=123)\n",
    "\n",
    "# 5-Fold Cross-Validation\n",
    "cv_scores = cross_val_score(random_forest, X_train_resampled, y_train_resampled, cv=cv, scoring='accuracy')\n",
    "\n",
    "print(\"Random Forest Cross-Validation Scores:\", cv_scores)\n",
    "print(\"Random Forest Mean CV Accuracy:\", cv_scores.mean())\n",
    "\n",
    "# Train and Evaluate\n",
    "random_forest.fit(X_train_resampled, y_train_resampled)\n",
    "y_pred_rf = random_forest.predict(X_test)\n",
    "\n",
    "# Classification Report\n",
    "print(\"Random Forest Classification Report:\")\n",
    "print(classification_report(y_test, y_pred_rf))\n"
   ]
  },
  {
   "cell_type": "markdown",
   "id": "74d6288b",
   "metadata": {},
   "source": [
    "### 5.3 Gradient Boosting Classifier"
   ]
  },
  {
   "cell_type": "code",
   "execution_count": 66,
   "id": "58600626",
   "metadata": {},
   "outputs": [
    {
     "name": "stdout",
     "output_type": "stream",
     "text": [
      "Gradient Boosting Cross-Validation Scores: [0.96718622 0.9630845  0.96800656 0.96691277 0.96608315]\n",
      "Gradient Boosting Mean CV Accuracy: 0.9662546394941748\n",
      "Gradient Boosting Classification Report:\n",
      "              precision    recall  f1-score   support\n",
      "\n",
      "           0       0.98      0.98      0.98      2286\n",
      "           1       0.92      0.94      0.93       714\n",
      "\n",
      "    accuracy                           0.97      3000\n",
      "   macro avg       0.95      0.96      0.95      3000\n",
      "weighted avg       0.97      0.97      0.97      3000\n",
      "\n"
     ]
    }
   ],
   "source": [
    "# Gradient Boosting Classifier\n",
    "gradient_boosting = GradientBoostingClassifier(random_state=123)\n",
    "\n",
    "# 5-Fold Cross-Validation\n",
    "cv_scores = cross_val_score(gradient_boosting, X_train_resampled, y_train_resampled, cv=cv, scoring='accuracy')\n",
    "\n",
    "print(\"Gradient Boosting Cross-Validation Scores:\", cv_scores)\n",
    "print(\"Gradient Boosting Mean CV Accuracy:\", cv_scores.mean())\n",
    "\n",
    "# Train and Evaluate\n",
    "gradient_boosting.fit(X_train_resampled, y_train_resampled)\n",
    "y_pred_gb = gradient_boosting.predict(X_test)\n",
    "\n",
    "# Classification Report\n",
    "print(\"Gradient Boosting Classification Report:\")\n",
    "print(classification_report(y_test, y_pred_gb))\n"
   ]
  },
  {
   "cell_type": "markdown",
   "id": "fd091c30",
   "metadata": {},
   "source": [
    "- Logistic Regression: High precision for employees who stayed, but relatively low precision for those who left. Also the accuracy is moderate and we see imbalanced precision and recall for the two classes.\n",
    "- Random Forest Classifier: Excellent performance across all metrics and very high precision and recall for both classes\n",
    "- Gradient Boosting Classifier: High precision and recall for both classes, but slightly lower than Random Forest\n",
    "\n",
    "**Comparison and Best Model**\n",
    "- Random Forest outperforms Logistic Regression and Gradient Boosting in terms of accuracy, precision, recall, and F1-score.\n",
    "\n",
    "- Logistic Regression has the lowest performance, indicating that it's less suitable for this dataset compared to the other two.\n",
    "\n",
    "- Gradient Boosting provides a good balance between precision and recall, but Random Forest has a slight edge.\n",
    "\n",
    "Therefore, based on the classification reports, the Random Forest Classifier is the best model."
   ]
  },
  {
   "cell_type": "markdown",
   "id": "2c2b607e",
   "metadata": {},
   "source": [
    "## 6. Identifying the best model\n",
    "\n",
    "To identify the best model among the Logistic Regression, Random Forest Classifier, and Gradient Boosting Classifier, we will evaluate their performance using the ROC/AUC score, plot the ROC curve, and analyze the confusion matrix for each model."
   ]
  },
  {
   "cell_type": "markdown",
   "id": "192380f2",
   "metadata": {},
   "source": [
    "### 6.1 ROC/AUC and ROC Curve\n",
    "\n",
    "The ROC (Receiver Operating Characteristic) curve illustrates the true positive rate (sensitivity) against the false positive rate (1-specificity) at various threshold settings. The AUC (Area Under the Curve) quantifies the overall ability of the model to discriminate between positive and negative classes."
   ]
  },
  {
   "cell_type": "code",
   "execution_count": 68,
   "id": "8723b781",
   "metadata": {},
   "outputs": [
    {
     "data": {
      "image/png": "[encoded data removed]",
      "text/plain": [
       "<Figure size 720x432 with 1 Axes>"
      ]
     },
     "metadata": {
      "needs_background": "light"
     },
     "output_type": "display_data"
    },
    {
     "name": "stdout",
     "output_type": "stream",
     "text": [
      "Logistic Regression AUC: 0.83\n",
      "Random Forest AUC: 0.99\n",
      "Gradient Boosting AUC: 0.99\n"
     ]
    }
   ],
   "source": [
    "# Function to calculate ROC/AUC and plot\n",
    "def plot_roc_curve(model, X_test, y_test, label):\n",
    "    y_prob = model.predict_proba(X_test)[:, 1]  # Probability of positive class\n",
    "    fpr, tpr, _ = roc_curve(y_test, y_prob)\n",
    "    roc_auc = auc(fpr, tpr)\n",
    "    \n",
    "    plt.plot(fpr, tpr, label=f'{label} (AUC = {roc_auc:.2f})')\n",
    "    return roc_auc\n",
    "\n",
    "# Plotting ROC curves for each model\n",
    "plt.figure(figsize=(10, 6))\n",
    "roc_auc_lr = plot_roc_curve(logistic_regression, X_test, y_test, 'Logistic Regression')\n",
    "roc_auc_rf = plot_roc_curve(random_forest, X_test, y_test, 'Random Forest')\n",
    "roc_auc_gb = plot_roc_curve(gradient_boosting, X_test, y_test, 'Gradient Boosting')\n",
    "\n",
    "plt.plot([0, 1], [0, 1], 'k--')  # Diagonal line\n",
    "plt.xlim([0.0, 1.0])\n",
    "plt.ylim([0.0, 1.05])\n",
    "plt.xlabel('False Positive Rate')\n",
    "plt.ylabel('True Positive Rate')\n",
    "plt.title('Receiver Operating Characteristic (ROC) Curve')\n",
    "plt.legend(loc='lower right')\n",
    "plt.show()\n",
    "\n",
    "# Print AUC scores\n",
    "print(f\"Logistic Regression AUC: {roc_auc_lr:.2f}\")\n",
    "print(f\"Random Forest AUC: {roc_auc_rf:.2f}\")\n",
    "print(f\"Gradient Boosting AUC: {roc_auc_gb:.2f}\")"
   ]
  },
  {
   "cell_type": "markdown",
   "id": "19e62482",
   "metadata": {},
   "source": [
    "Both Random Forest and Gradient Boosting have an AUC of 0.99, but when deciding on the best model, one would need to consider other factors such as:\n",
    "\n",
    "**Computational Cost**: Random Forest tends to be faster in training compared to Gradient Boosting.\n",
    "\n",
    "**Interpretability**: Random Forests are generally easier to interpret compared to Gradient Boosting.\n",
    "\n",
    "**Overfitting**: Gradient Boosting models can be prone to overfitting if not properly tuned.\n",
    "\n",
    "In this case, the **Random Forest would be better**. Although Gradient Boosting matches it in performance (AUC = 0.99), the other benefits of the Random Forest model are useful."
   ]
  },
  {
   "cell_type": "markdown",
   "id": "66ba4036",
   "metadata": {},
   "source": [
    "### 6.2 Confusion Matrix\n",
    "\n",
    "The confusion matrix provides insights into the number of true positives (TP), false positives (FP), true negatives (TN), and false negatives (FN)."
   ]
  },
  {
   "cell_type": "code",
   "execution_count": 70,
   "id": "d27a021f",
   "metadata": {},
   "outputs": [
    {
     "name": "stdout",
     "output_type": "stream",
     "text": [
      "Confusion Matrix for LogisticRegression:\n",
      "[[1711  575]\n",
      " [ 136  578]]\n",
      "Confusion Matrix for RandomForestClassifier:\n",
      "[[2276   10]\n",
      " [  15  699]]\n",
      "Confusion Matrix for GradientBoostingClassifier:\n",
      "[[2231   55]\n",
      " [  46  668]]\n"
     ]
    }
   ],
   "source": [
    "# Function to display confusion matrix\n",
    "def display_confusion_matrix(model, X_test, y_test):\n",
    "    y_pred = model.predict(X_test)\n",
    "    cm = confusion_matrix(y_test, y_pred)\n",
    "    print(f\"Confusion Matrix for {model.__class__.__name__}:\")\n",
    "    print(cm)\n",
    "\n",
    "# Display confusion matrices for each model\n",
    "display_confusion_matrix(logistic_regression, X_test, y_test)\n",
    "display_confusion_matrix(random_forest, X_test, y_test)\n",
    "display_confusion_matrix(gradient_boosting, X_test, y_test)\n"
   ]
  },
  {
   "cell_type": "markdown",
   "id": "c5f303a1",
   "metadata": {},
   "source": [
    "- Random Forest Classifier:\n",
    "\n",
    "Best performance with the highest true negatives and true positives, and very few false positives and negatives. It effectively identifies both classes with high accuracy.\n",
    "\n",
    "- Gradient Boosting Classifier:\n",
    "\n",
    "Strong performance but slightly less effective than Random Forest in terms of misclassifications.\n",
    "\n",
    "- Logistic Regression:\n",
    "\n",
    "The least effective model among the three, with a higher number of misclassifications, particularly false positives.\n",
    "\n",
    "**Final Recommendation**\n",
    "Based on the confusion matrices and overall performance metrics, the Random Forest Classifier is the best model, providing the most reliable predictions for employee turnover with minimal misclassification."
   ]
  },
  {
   "cell_type": "markdown",
   "id": "aad2e173",
   "metadata": {},
   "source": [
    "### 6.3 Choosing Between Recall and Precision\n",
    "\n",
    "When evaluating models for employee turnover prediction:\n",
    "\n",
    "**Recall** (True Positive Rate): Measures the ability of a model to find all relevant cases (i.e., employees who left). High recall is crucial in this context because failing to identify employees likely to leave can lead to increased turnover costs.\n",
    "\n",
    "**Precision**: Measures the accuracy of positive predictions. While important in some contexts (e.g., fraud detection), in this case it is less critical than recall because we want to ensure we capture as many actual leavers as possible.\n",
    "\n",
    "Given that missing an employee who is likely to leave could have significant implications for retention strategies and workforce stability, **recall should be prioritized** over precision in this scenario."
   ]
  },
  {
   "cell_type": "markdown",
   "id": "bcc0d6e6",
   "metadata": {},
   "source": [
    "## 7. Retention Strategies for Targeted Employees"
   ]
  },
  {
   "cell_type": "markdown",
   "id": "3d479916",
   "metadata": {},
   "source": [
    "### 7.1. Predict Turnover Probability Using the Best Model\n",
    "\n",
    "First, use the Random Forest model to predict the probability of employee turnover for the test data:"
   ]
  },
  {
   "cell_type": "code",
   "execution_count": 71,
   "id": "b9d66773",
   "metadata": {},
   "outputs": [
    {
     "name": "stdout",
     "output_type": "stream",
     "text": [
      "   satisfaction_level  last_evaluation  number_project  average_montly_hours  \\\n",
      "0            1.476804         0.314894       -0.651538             -0.201242   \n",
      "1            0.591928         1.249673       -0.651538              1.400634   \n",
      "2            0.350598         1.249673       -0.651538             -0.321383   \n",
      "3           -0.534278        -0.619886       -0.651538              0.439508   \n",
      "4           -0.172283         1.074402       -0.651538             -1.142345   \n",
      "\n",
      "   time_spend_company  Work_accident  promotion_last_5years  Department_RandD  \\\n",
      "0           -1.026126      -0.411165              -0.147412                 0   \n",
      "1            1.028546      -0.411165              -0.147412                 0   \n",
      "2            0.343655      -0.411165              -0.147412                 0   \n",
      "3           -0.341235       2.432112              -0.147412                 0   \n",
      "4           -1.026126      -0.411165              -0.147412                 0   \n",
      "\n",
      "   Department_accounting  Department_hr  Department_management  \\\n",
      "0                      0              0                      0   \n",
      "1                      0              1                      0   \n",
      "2                      1              0                      0   \n",
      "3                      0              0                      0   \n",
      "4                      0              0                      0   \n",
      "\n",
      "   Department_marketing  Department_product_mng  Department_sales  \\\n",
      "0                     0                       0                 1   \n",
      "1                     0                       0                 0   \n",
      "2                     0                       0                 0   \n",
      "3                     0                       0                 0   \n",
      "4                     0                       0                 0   \n",
      "\n",
      "   Department_support  Department_technical  salary_low  salary_medium  \\\n",
      "0                   0                     0           0              1   \n",
      "1                   0                     0           1              0   \n",
      "2                   0                     0           0              1   \n",
      "3                   1                     0           0              1   \n",
      "4                   0                     0           0              1   \n",
      "\n",
      "   Probability_of_Leaving  \n",
      "0                    0.00  \n",
      "1                    0.38  \n",
      "2                    0.02  \n",
      "3                    0.00  \n",
      "4                    0.00  \n"
     ]
    }
   ],
   "source": [
    "# Predict probabilities on the test data\n",
    "y_prob = random_forest.predict_proba(X_test)[:, 1]  # Probability of leaving\n",
    "\n",
    "# Create a DataFrame with the predictions\n",
    "predictions_df = pd.DataFrame({'Probability_of_Leaving': y_prob})\n",
    "\n",
    "# Concatenate predictions with the test data\n",
    "results_df = pd.concat([X_test.reset_index(drop=True), predictions_df], axis=1)\n",
    "\n",
    "# Display the first few rows of the results\n",
    "print(results_df.head())\n"
   ]
  },
  {
   "cell_type": "markdown",
   "id": "ac697774",
   "metadata": {},
   "source": [
    "### 7.2. Categorize Employees into Zones and Suggest Retention Strategies\n",
    "\n",
    "Now, categorize employees based on the probability scores and suggest retention strategies for each zone:"
   ]
  },
  {
   "cell_type": "code",
   "execution_count": 73,
   "id": "01725f17",
   "metadata": {},
   "outputs": [
    {
     "name": "stdout",
     "output_type": "stream",
     "text": [
      "Safe Zone (Green)            2202\n",
      "High-Risk Zone (Red)          651\n",
      "Low-Risk Zone (Yellow)         94\n",
      "Medium-Risk Zone (Orange)      53\n",
      "Name: Risk_Zone, dtype: int64\n"
     ]
    },
    {
     "data": {
      "text/html": [
       "<div>\n",
       "<style scoped>\n",
       "    .dataframe tbody tr th:only-of-type {\n",
       "        vertical-align: middle;\n",
       "    }\n",
       "\n",
       "    .dataframe tbody tr th {\n",
       "        vertical-align: top;\n",
       "    }\n",
       "\n",
       "    .dataframe thead th {\n",
       "        text-align: right;\n",
       "    }\n",
       "</style>\n",
       "<table border=\"1\" class=\"dataframe\">\n",
       "  <thead>\n",
       "    <tr style=\"text-align: right;\">\n",
       "      <th></th>\n",
       "      <th>satisfaction_level</th>\n",
       "      <th>last_evaluation</th>\n",
       "      <th>number_project</th>\n",
       "      <th>average_montly_hours</th>\n",
       "      <th>time_spend_company</th>\n",
       "      <th>Work_accident</th>\n",
       "      <th>promotion_last_5years</th>\n",
       "      <th>Department_RandD</th>\n",
       "      <th>Department_accounting</th>\n",
       "      <th>Department_hr</th>\n",
       "      <th>Department_management</th>\n",
       "      <th>Department_marketing</th>\n",
       "      <th>Department_product_mng</th>\n",
       "      <th>Department_sales</th>\n",
       "      <th>Department_support</th>\n",
       "      <th>Department_technical</th>\n",
       "      <th>salary_low</th>\n",
       "      <th>salary_medium</th>\n",
       "      <th>Probability_of_Leaving</th>\n",
       "      <th>Risk_Zone</th>\n",
       "    </tr>\n",
       "  </thead>\n",
       "  <tbody>\n",
       "    <tr>\n",
       "      <th>0</th>\n",
       "      <td>1.476804</td>\n",
       "      <td>0.314894</td>\n",
       "      <td>-0.651538</td>\n",
       "      <td>-0.201242</td>\n",
       "      <td>-1.026126</td>\n",
       "      <td>-0.411165</td>\n",
       "      <td>-0.147412</td>\n",
       "      <td>0</td>\n",
       "      <td>0</td>\n",
       "      <td>0</td>\n",
       "      <td>0</td>\n",
       "      <td>0</td>\n",
       "      <td>0</td>\n",
       "      <td>1</td>\n",
       "      <td>0</td>\n",
       "      <td>0</td>\n",
       "      <td>0</td>\n",
       "      <td>1</td>\n",
       "      <td>0.00</td>\n",
       "      <td>Safe Zone (Green)</td>\n",
       "    </tr>\n",
       "    <tr>\n",
       "      <th>1</th>\n",
       "      <td>0.591928</td>\n",
       "      <td>1.249673</td>\n",
       "      <td>-0.651538</td>\n",
       "      <td>1.400634</td>\n",
       "      <td>1.028546</td>\n",
       "      <td>-0.411165</td>\n",
       "      <td>-0.147412</td>\n",
       "      <td>0</td>\n",
       "      <td>0</td>\n",
       "      <td>1</td>\n",
       "      <td>0</td>\n",
       "      <td>0</td>\n",
       "      <td>0</td>\n",
       "      <td>0</td>\n",
       "      <td>0</td>\n",
       "      <td>0</td>\n",
       "      <td>1</td>\n",
       "      <td>0</td>\n",
       "      <td>0.38</td>\n",
       "      <td>Low-Risk Zone (Yellow)</td>\n",
       "    </tr>\n",
       "    <tr>\n",
       "      <th>2</th>\n",
       "      <td>0.350598</td>\n",
       "      <td>1.249673</td>\n",
       "      <td>-0.651538</td>\n",
       "      <td>-0.321383</td>\n",
       "      <td>0.343655</td>\n",
       "      <td>-0.411165</td>\n",
       "      <td>-0.147412</td>\n",
       "      <td>0</td>\n",
       "      <td>1</td>\n",
       "      <td>0</td>\n",
       "      <td>0</td>\n",
       "      <td>0</td>\n",
       "      <td>0</td>\n",
       "      <td>0</td>\n",
       "      <td>0</td>\n",
       "      <td>0</td>\n",
       "      <td>0</td>\n",
       "      <td>1</td>\n",
       "      <td>0.02</td>\n",
       "      <td>Safe Zone (Green)</td>\n",
       "    </tr>\n",
       "    <tr>\n",
       "      <th>3</th>\n",
       "      <td>-0.534278</td>\n",
       "      <td>-0.619886</td>\n",
       "      <td>-0.651538</td>\n",
       "      <td>0.439508</td>\n",
       "      <td>-0.341235</td>\n",
       "      <td>2.432112</td>\n",
       "      <td>-0.147412</td>\n",
       "      <td>0</td>\n",
       "      <td>0</td>\n",
       "      <td>0</td>\n",
       "      <td>0</td>\n",
       "      <td>0</td>\n",
       "      <td>0</td>\n",
       "      <td>0</td>\n",
       "      <td>1</td>\n",
       "      <td>0</td>\n",
       "      <td>0</td>\n",
       "      <td>1</td>\n",
       "      <td>0.00</td>\n",
       "      <td>Safe Zone (Green)</td>\n",
       "    </tr>\n",
       "    <tr>\n",
       "      <th>4</th>\n",
       "      <td>-0.172283</td>\n",
       "      <td>1.074402</td>\n",
       "      <td>-0.651538</td>\n",
       "      <td>-1.142345</td>\n",
       "      <td>-1.026126</td>\n",
       "      <td>-0.411165</td>\n",
       "      <td>-0.147412</td>\n",
       "      <td>0</td>\n",
       "      <td>0</td>\n",
       "      <td>0</td>\n",
       "      <td>0</td>\n",
       "      <td>0</td>\n",
       "      <td>0</td>\n",
       "      <td>0</td>\n",
       "      <td>0</td>\n",
       "      <td>0</td>\n",
       "      <td>0</td>\n",
       "      <td>1</td>\n",
       "      <td>0.00</td>\n",
       "      <td>Safe Zone (Green)</td>\n",
       "    </tr>\n",
       "  </tbody>\n",
       "</table>\n",
       "</div>"
      ],
      "text/plain": [
       "   satisfaction_level  last_evaluation  number_project  average_montly_hours  \\\n",
       "0            1.476804         0.314894       -0.651538             -0.201242   \n",
       "1            0.591928         1.249673       -0.651538              1.400634   \n",
       "2            0.350598         1.249673       -0.651538             -0.321383   \n",
       "3           -0.534278        -0.619886       -0.651538              0.439508   \n",
       "4           -0.172283         1.074402       -0.651538             -1.142345   \n",
       "\n",
       "   time_spend_company  Work_accident  promotion_last_5years  Department_RandD  \\\n",
       "0           -1.026126      -0.411165              -0.147412                 0   \n",
       "1            1.028546      -0.411165              -0.147412                 0   \n",
       "2            0.343655      -0.411165              -0.147412                 0   \n",
       "3           -0.341235       2.432112              -0.147412                 0   \n",
       "4           -1.026126      -0.411165              -0.147412                 0   \n",
       "\n",
       "   Department_accounting  Department_hr  Department_management  \\\n",
       "0                      0              0                      0   \n",
       "1                      0              1                      0   \n",
       "2                      1              0                      0   \n",
       "3                      0              0                      0   \n",
       "4                      0              0                      0   \n",
       "\n",
       "   Department_marketing  Department_product_mng  Department_sales  \\\n",
       "0                     0                       0                 1   \n",
       "1                     0                       0                 0   \n",
       "2                     0                       0                 0   \n",
       "3                     0                       0                 0   \n",
       "4                     0                       0                 0   \n",
       "\n",
       "   Department_support  Department_technical  salary_low  salary_medium  \\\n",
       "0                   0                     0           0              1   \n",
       "1                   0                     0           1              0   \n",
       "2                   0                     0           0              1   \n",
       "3                   1                     0           0              1   \n",
       "4                   0                     0           0              1   \n",
       "\n",
       "   Probability_of_Leaving               Risk_Zone  \n",
       "0                    0.00       Safe Zone (Green)  \n",
       "1                    0.38  Low-Risk Zone (Yellow)  \n",
       "2                    0.02       Safe Zone (Green)  \n",
       "3                    0.00       Safe Zone (Green)  \n",
       "4                    0.00       Safe Zone (Green)  "
      ]
     },
     "execution_count": 73,
     "metadata": {},
     "output_type": "execute_result"
    }
   ],
   "source": [
    "# Define the zones\n",
    "def categorize_employee(prob):\n",
    "    if prob < 0.20:\n",
    "        return 'Safe Zone (Green)'\n",
    "    elif 0.20 <= prob < 0.60:\n",
    "        return 'Low-Risk Zone (Yellow)'\n",
    "    elif 0.60 <= prob < 0.90:\n",
    "        return 'Medium-Risk Zone (Orange)'\n",
    "    else:\n",
    "        return 'High-Risk Zone (Red)'\n",
    "\n",
    "# Apply the categorization\n",
    "results_df['Risk_Zone'] = results_df['Probability_of_Leaving'].apply(categorize_employee)\n",
    "\n",
    "# Display counts per zone\n",
    "print(results_df['Risk_Zone'].value_counts())\n",
    "\n",
    "# Display the first few rows with the Risk Zone\n",
    "results_df.head()\n"
   ]
  },
  {
   "cell_type": "markdown",
   "id": "ddbdc59d",
   "metadata": {},
   "source": [
    "### Retention Strategies for Each Zone\n",
    "\n",
    "**Safe Zone (Green) (Score < 20%)**\n",
    "\n",
    "*   **Characteristics:**\n",
    "    *   Employees who are highly likely to stay.\n",
    "    *   Typically satisfied and engaged.\n",
    "\n",
    "*   **Retention Strategies:**\n",
    "    *   **Maintain Engagement:**\n",
    "        *   Continue to offer growth opportunities and challenging assignments.\n",
    "    *   **Recognition:**\n",
    "        *   Regularly acknowledge their contributions and achievements.\n",
    "    *   **Feedback:**\n",
    "        *   Provide ongoing feedback to reinforce positive behavior and performance.\n",
    "    *   **Stay Interviews:**\n",
    "        *   Conduct stay interviews to understand what keeps them engaged and address any potential issues proactively.\n",
    "    *   **Leadership Development:**\n",
    "        *   Provide opportunities for leadership development and mentorship.\n",
    "\n",
    "**Low-Risk Zone (Yellow) (20% <= Score < 60%)**\n",
    "\n",
    "*   **Characteristics:**\n",
    "    *   Employees who are at a moderate risk of leaving.\n",
    "    *   Potential satisfaction issues or career aspirations not fully met.\n",
    "\n",
    "*   **Retention Strategies:**\n",
    "    *   **Career Development:**\n",
    "        *   Offer clear career paths and opportunities for advancement.\n",
    "        *   Provide training and skill-enhancement programs.\n",
    "    *   **Work-Life Balance:**\n",
    "        *   Support flexible work arrangements and promote a healthy work-life balance.\n",
    "    *   **Performance Feedback:**\n",
    "        *   Conduct regular performance reviews with constructive feedback and goal setting.\n",
    "    *   **Mentorship:**\n",
    "        *   Pair them with mentors who can provide guidance and support.\n",
    "    *   **Job Enrichment:**\n",
    "        *   Increase job responsibilities and variety to keep them engaged.\n",
    "    *   **Compensation Review:**\n",
    "        *   Ensure their compensation is competitive and aligned with their contributions.\n",
    "\n",
    "**Medium-Risk Zone (Orange) (60% <= Score < 90%)**\n",
    "\n",
    "*   **Characteristics:**\n",
    "    *   Employees who are at a high risk of leaving.\n",
    "    *   Significant dissatisfaction or external opportunities.\n",
    "\n",
    "*   **Retention Strategies:**\n",
    "    *   **Immediate Intervention:**\n",
    "        *   Schedule one-on-one meetings with managers to address concerns and issues.\n",
    "    *   **Restructuring Roles:**\n",
    "        *   Consider restructuring roles or assignments to better align with their interests and skills.\n",
    "    *   **Conflict Resolution:**\n",
    "        *   Address any conflicts or workplace issues promptly and effectively.\n",
    "    *   **Increased Recognition:**\n",
    "        *   Provide immediate and significant recognition for their work.\n",
    "    *   **Offer Incentives:**\n",
    "        *   Offer incentives such as bonuses or promotions if feasible.\n",
    "    *   **Active Listening:**\n",
    "        *   Actively listen to their concerns and demonstrate a commitment to addressing them.\n",
    "\n",
    "**High-Risk Zone (Red) (Score > 90%)**\n",
    "\n",
    "*   **Characteristics:**\n",
    "    *   Employees who are highly likely to leave.\n",
    "    *   Actively looking for other opportunities or highly dissatisfied.\n",
    "\n",
    "*   **Retention Strategies:**\n",
    "    *   **Critical Intervention:**\n",
    "        *   Conduct an urgent meeting with HR and management to understand the reasons for potential departure.\n",
    "    *   **Counteroffer (If Appropriate):**\n",
    "        *   If feasible, present a compelling counteroffer that addresses their concerns (e.g., higher salary, promotion, different role).\n",
    "    *   **Flexible Arrangements:**\n",
    "        *   Offer highly flexible work arrangements or remote work options.\n",
    "    *   **Career Discussion:**\n",
    "        *   Have an open discussion about their long-term career goals and how the company can support them.\n",
    "    *   **Exit Strategy:**\n",
    "        *   If retention is not possible, ensure a smooth transition and gather feedback through an exit interview to understand areas for improvement.\n",
    "    *   **Focus on Relationship:**\n",
    "        *   Maintain a positive relationship even if they decide to leave, as they could be a potential boomerang employee in the future.\n",
    "\n",
    "By implementing these targeted retention strategies based on risk zones, the organization can proactively address employee turnover and improve overall retention rates.\n"
   ]
  },
  {
   "cell_type": "code",
   "execution_count": null,
   "id": "80e07eb9",
   "metadata": {},
   "outputs": [],
   "source": []
  }
 ],
 "metadata": {
  "kernelspec": {
   "display_name": "Python 3",
   "language": "python",
   "name": "python3"
  },
  "language_info": {
   "codemirror_mode": {
    "name": "ipython",
    "version": 3
   },
   "file_extension": ".py",
   "mimetype": "text/x-python",
   "name": "python",
   "nbconvert_exporter": "python",
   "pygments_lexer": "ipython3",
   "version": "3.8.8"
  }
 },
 "nbformat": 4,
 "nbformat_minor": 5
}
